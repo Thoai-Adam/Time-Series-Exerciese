{
 "cells": [
  {
   "cell_type": "code",
   "execution_count": 4,
   "id": "a0669101",
   "metadata": {},
   "outputs": [],
   "source": [
    "import requests\n",
    "import numpy as np"
   ]
  },
  {
   "cell_type": "markdown",
   "id": "65a94aba",
   "metadata": {},
   "source": [
    "go tothe home page\n",
    "\n",
    "requests.get() on the home page\n",
    "\n",
    "homepage content had a new endpoints\n",
    "\n",
    "pick the endpoint for people,\n",
    "\n",
    "userequests.get for that endpoint\n",
    "\n",
    "get the results value out of that\n",
    "\n",
    "whichisa list of dictionaries\n",
    "\n",
    "use that list of dictionaries struct to get a dataframe\n",
    "\n",
    "makea request on the second page\n",
    "\n",
    "use the endpoint associated in the url\n",
    "\n",
    "stored in the 'next'\n",
    "\n",
    "and use that to get new results"
   ]
  },
  {
   "cell_type": "markdown",
   "id": "7c675542",
   "metadata": {},
   "source": [
    "Think about the way that we may want to loop through this content in order to result in a dataframe that has all of the info:\n",
    "\n",
    "steps that I would want to take to get all of the people info:\n",
    "\n",
    "access the first people page,\n",
    "\n",
    "I note that it has a [next] value and a [results] value\n",
    "\n",
    "I can cast results as a dataframe, and next contains a url for the next page, that eventually returns a null when there is no next page\n",
    "\n",
    "steps:\n",
    "\n",
    "while next page is not null: \n",
    "    \n",
    "    grab content\n",
    "    \n",
    "    turn the content into dataframe\n",
    "    \n",
    "    concatenate the page of content to whatever df i have already"
   ]
  },
  {
   "cell_type": "code",
   "execution_count": null,
   "id": "8355d11e",
   "metadata": {},
   "outputs": [],
   "source": []
  }
 ],
 "metadata": {
  "kernelspec": {
   "display_name": "Python 3 (ipykernel)",
   "language": "python",
   "name": "python3"
  },
  "language_info": {
   "codemirror_mode": {
    "name": "ipython",
    "version": 3
   },
   "file_extension": ".py",
   "mimetype": "text/x-python",
   "name": "python",
   "nbconvert_exporter": "python",
   "pygments_lexer": "ipython3",
   "version": "3.10.9"
  }
 },
 "nbformat": 4,
 "nbformat_minor": 5
}
