{
 "cells": [
  {
   "cell_type": "markdown",
   "id": "abf61193",
   "metadata": {},
   "source": [
    "# Acquisition via API\n",
    "\n",
    "Rewriting this lesson for a better understanding\n",
    "\n",
    "An ApI is an application interface -- it is the internet, but for computers. \n",
    "\n",
    "An API is there for a program or a computer to interact with the backend of another website or server without being able to actually access that backend. This will generally require knowledge of the domain. \n",
    "\n",
    "Like a waiter at a restaurant, we can request info/food from the kitchen but the waiter/API acts as the liason rather than us being allowed directly in the back.\n",
    "\n",
    "We can do it programmatically!"
   ]
  },
  {
   "cell_type": "code",
   "execution_count": 2,
   "id": "ec077e9b",
   "metadata": {},
   "outputs": [],
   "source": [
    "#New library: request!\n",
    "import requests\n",
    "import pandas as pd"
   ]
  },
  {
   "cell_type": "code",
   "execution_count": 3,
   "id": "5d7cbaa2",
   "metadata": {},
   "outputs": [],
   "source": [
    "# using requests:\n",
    "# with requests, to grab information, we use get"
   ]
  },
  {
   "cell_type": "code",
   "execution_count": 4,
   "id": "296ea6a9",
   "metadata": {},
   "outputs": [],
   "source": [
    "# grabbing info from somewhere is a get\n",
    "aphorisms = requests.get('http://aphorisms.glitch.me/')\n",
    "google = requests.get('https://google.com')\n",
    "# putting infomration out is generally done witha POST\n",
    "# (more on this in delivering data product via curriculum)"
   ]
  },
  {
   "cell_type": "code",
   "execution_count": 5,
   "id": "35bb8607",
   "metadata": {},
   "outputs": [
    {
     "data": {
      "text/plain": [
       "<Response [200]>"
      ]
     },
     "execution_count": 5,
     "metadata": {},
     "output_type": "execute_result"
    }
   ],
   "source": [
    "# Lets look at the google response:\n",
    "google\n",
    "# these are code that give you status of the acquiring"
   ]
  },
  {
   "cell_type": "code",
   "execution_count": 6,
   "id": "d98b1244",
   "metadata": {},
   "outputs": [
    {
     "data": {
      "text/plain": [
       "<Response [200]>"
      ]
     },
     "execution_count": 6,
     "metadata": {},
     "output_type": "execute_result"
    }
   ],
   "source": [
    "# when aphorism was spelled wrong, it gave me a 401\n",
    "aphorisms"
   ]
  },
  {
   "cell_type": "code",
   "execution_count": 7,
   "id": "117bc00f",
   "metadata": {},
   "outputs": [
    {
     "data": {
      "text/plain": [
       "requests.models.Response"
      ]
     },
     "execution_count": 7,
     "metadata": {},
     "output_type": "execute_result"
    }
   ],
   "source": [
    "type(google)\n",
    "# this will show that the requested model has response"
   ]
  },
  {
   "cell_type": "markdown",
   "id": "2bc710c2",
   "metadata": {},
   "source": [
    "HTTP response codes are present as th emain interface of the requests.get returns.\n",
    "\n",
    "200 codes are generally OKs\n",
    "\n",
    "400's mean its something you did wrong\n",
    "\n",
    "500's mean its something wrongwith the server"
   ]
  },
  {
   "cell_type": "code",
   "execution_count": 8,
   "id": "cfa03b10",
   "metadata": {},
   "outputs": [
    {
     "data": {
      "text/plain": [
       "'<!doctype html><html itemscope=\"\" itemtype=\"http://schema.org/WebPage\" lang=\"en\"><head><meta content=\"Search the world\\'s information, including webpages, images, videos and more. Google has many speci'"
      ]
     },
     "execution_count": 8,
     "metadata": {},
     "output_type": "execute_result"
    }
   ],
   "source": [
    "# a property stored int he reponse object now that you have it:\n",
    "#first 200 characters fo the text property:\n",
    "google.text[:200]"
   ]
  },
  {
   "cell_type": "markdown",
   "id": "49161759",
   "metadata": {},
   "source": [
    "A human-based web page like google is meant for a humanto brwose. \n",
    "\n",
    "check out that info on the text property results in a big mess of html, even for a simple page like google.\n",
    "\n",
    "if we want to navigate something like that, we will want to use something that will help us parse all that mess of content to graph the valuable info. \n",
    "\n",
    "convenioently, since APIs are build off the RESTful(HTTP, URI, JSON, XML) standard, they are meant to reliably transmit info that we would normally getprogrammatically over a HTTP connection. "
   ]
  },
  {
   "cell_type": "code",
   "execution_count": 9,
   "id": "a0d1c407",
   "metadata": {},
   "outputs": [
    {
     "data": {
      "text/plain": [
       "'{\"quote\":\"Nobody knows everything. Everybody knows everything. And together, we can do anything!\",\"author\":\"Kathryn San Miguel\"}'"
      ]
     },
     "execution_count": 9,
     "metadata": {},
     "output_type": "execute_result"
    }
   ],
   "source": [
    "# lets explore the API one and see how its different: \n",
    "aphorisms.text"
   ]
  },
  {
   "cell_type": "markdown",
   "id": "55867f4d",
   "metadata": {},
   "source": [
    "So i can't quite wrap this and cast this string literal that represents JSON as a dictionary, so what do I need to do?\n",
    "dict(aphorisms.text)\n",
    "\n",
    "I could go through the stirng literal present in .text and parase that content assigning parts of it to my keys, and parts of it to values\n",
    "\n",
    "or do this"
   ]
  },
  {
   "cell_type": "code",
   "execution_count": 10,
   "id": "a22671bd",
   "metadata": {},
   "outputs": [
    {
     "data": {
      "text/plain": [
       "{'quote': 'Nobody knows everything. Everybody knows everything. And together, we can do anything!',\n",
       " 'author': 'Kathryn San Miguel'}"
      ]
     },
     "execution_count": 10,
     "metadata": {},
     "output_type": "execute_result"
    }
   ],
   "source": [
    "aphorisms.json()"
   ]
  },
  {
   "cell_type": "code",
   "execution_count": 11,
   "id": "fd500871",
   "metadata": {},
   "outputs": [
    {
     "data": {
      "text/plain": [
       "dict"
      ]
     },
     "execution_count": 11,
     "metadata": {},
     "output_type": "execute_result"
    }
   ],
   "source": [
    "\n",
    "type(aphorisms.json())\n",
    "# type= expression ; aphorisms = object ; json(); method"
   ]
  },
  {
   "cell_type": "markdown",
   "id": "cdaf0ccb",
   "metadata": {},
   "source": [
    "the type expression is checking the type of result obtained when calling json() method on the aphorisms object. \n",
    "\n",
    "when the result is dict, it means that the JSON data you ask for represent a dictionary in Python"
   ]
  },
  {
   "cell_type": "markdown",
   "id": "65a08b1b",
   "metadata": {},
   "source": [
    "What if we do that number on the google one? \n",
    "\n",
    "json can't deal with the google HTML: google.json()"
   ]
  },
  {
   "cell_type": "code",
   "execution_count": 12,
   "id": "df6f122c",
   "metadata": {},
   "outputs": [],
   "source": [
    "# new website: \n",
    "sw_page = 'https://swapi.dev/api'"
   ]
  },
  {
   "cell_type": "code",
   "execution_count": 13,
   "id": "bd70356e",
   "metadata": {},
   "outputs": [],
   "source": [
    "response = requests.get(sw_page)"
   ]
  },
  {
   "cell_type": "code",
   "execution_count": 14,
   "id": "dd76ab60",
   "metadata": {},
   "outputs": [
    {
     "data": {
      "text/plain": [
       "'{\"people\":\"https://swapi.dev/api/people/\",\"planets\":\"https://swapi.dev/api/planets/\",\"films\":\"https://swapi.dev/api/films/\",\"species\":\"https://swapi.dev/api/species/\",\"vehicles\":\"https://swapi.dev/api/vehicles/\",\"starships\":\"https://swapi.dev/api/starships/\"}'"
      ]
     },
     "execution_count": 14,
     "metadata": {},
     "output_type": "execute_result"
    }
   ],
   "source": [
    "response.text"
   ]
  },
  {
   "cell_type": "code",
   "execution_count": 15,
   "id": "402baec3",
   "metadata": {},
   "outputs": [],
   "source": [
    "home_page = response.json()"
   ]
  },
  {
   "cell_type": "code",
   "execution_count": 16,
   "id": "a2d902de",
   "metadata": {},
   "outputs": [
    {
     "data": {
      "text/plain": [
       "{'people': 'https://swapi.dev/api/people/',\n",
       " 'planets': 'https://swapi.dev/api/planets/',\n",
       " 'films': 'https://swapi.dev/api/films/',\n",
       " 'species': 'https://swapi.dev/api/species/',\n",
       " 'vehicles': 'https://swapi.dev/api/vehicles/',\n",
       " 'starships': 'https://swapi.dev/api/starships/'}"
      ]
     },
     "execution_count": 16,
     "metadata": {},
     "output_type": "execute_result"
    }
   ],
   "source": [
    "# home page is a dict of my home page, \n",
    "# the values associated with the keys are new urls\n",
    "home_page"
   ]
  },
  {
   "cell_type": "code",
   "execution_count": 17,
   "id": "ae1f782c",
   "metadata": {},
   "outputs": [
    {
     "data": {
      "text/plain": [
       "'https://swapi.dev/api/people/'"
      ]
     },
     "execution_count": 17,
     "metadata": {},
     "output_type": "execute_result"
    }
   ],
   "source": [
    "# the value associated with the key people is a new endpoint:\n",
    "home_page['people']"
   ]
  },
  {
   "cell_type": "markdown",
   "id": "22c0a302",
   "metadata": {},
   "source": [
    "That value/endpoint is a string literal, and we pass it into requestsget() which makes another web transaction\n"
   ]
  },
  {
   "cell_type": "code",
   "execution_count": 18,
   "id": "7cd1be1b",
   "metadata": {},
   "outputs": [],
   "source": [
    "people_payload = requests.get(home_page['people']).json()"
   ]
  },
  {
   "cell_type": "code",
   "execution_count": 19,
   "id": "3056f15c",
   "metadata": {},
   "outputs": [
    {
     "data": {
      "text/plain": [
       "{'count': 82,\n",
       " 'next': 'https://swapi.dev/api/people/?page=2',\n",
       " 'previous': None,\n",
       " 'results': [{'name': 'Luke Skywalker',\n",
       "   'height': '172',\n",
       "   'mass': '77',\n",
       "   'hair_color': 'blond',\n",
       "   'skin_color': 'fair',\n",
       "   'eye_color': 'blue',\n",
       "   'birth_year': '19BBY',\n",
       "   'gender': 'male',\n",
       "   'homeworld': 'https://swapi.dev/api/planets/1/',\n",
       "   'films': ['https://swapi.dev/api/films/1/',\n",
       "    'https://swapi.dev/api/films/2/',\n",
       "    'https://swapi.dev/api/films/3/',\n",
       "    'https://swapi.dev/api/films/6/'],\n",
       "   'species': [],\n",
       "   'vehicles': ['https://swapi.dev/api/vehicles/14/',\n",
       "    'https://swapi.dev/api/vehicles/30/'],\n",
       "   'starships': ['https://swapi.dev/api/starships/12/',\n",
       "    'https://swapi.dev/api/starships/22/'],\n",
       "   'created': '2014-12-09T13:50:51.644000Z',\n",
       "   'edited': '2014-12-20T21:17:56.891000Z',\n",
       "   'url': 'https://swapi.dev/api/people/1/'},\n",
       "  {'name': 'C-3PO',\n",
       "   'height': '167',\n",
       "   'mass': '75',\n",
       "   'hair_color': 'n/a',\n",
       "   'skin_color': 'gold',\n",
       "   'eye_color': 'yellow',\n",
       "   'birth_year': '112BBY',\n",
       "   'gender': 'n/a',\n",
       "   'homeworld': 'https://swapi.dev/api/planets/1/',\n",
       "   'films': ['https://swapi.dev/api/films/1/',\n",
       "    'https://swapi.dev/api/films/2/',\n",
       "    'https://swapi.dev/api/films/3/',\n",
       "    'https://swapi.dev/api/films/4/',\n",
       "    'https://swapi.dev/api/films/5/',\n",
       "    'https://swapi.dev/api/films/6/'],\n",
       "   'species': ['https://swapi.dev/api/species/2/'],\n",
       "   'vehicles': [],\n",
       "   'starships': [],\n",
       "   'created': '2014-12-10T15:10:51.357000Z',\n",
       "   'edited': '2014-12-20T21:17:50.309000Z',\n",
       "   'url': 'https://swapi.dev/api/people/2/'},\n",
       "  {'name': 'R2-D2',\n",
       "   'height': '96',\n",
       "   'mass': '32',\n",
       "   'hair_color': 'n/a',\n",
       "   'skin_color': 'white, blue',\n",
       "   'eye_color': 'red',\n",
       "   'birth_year': '33BBY',\n",
       "   'gender': 'n/a',\n",
       "   'homeworld': 'https://swapi.dev/api/planets/8/',\n",
       "   'films': ['https://swapi.dev/api/films/1/',\n",
       "    'https://swapi.dev/api/films/2/',\n",
       "    'https://swapi.dev/api/films/3/',\n",
       "    'https://swapi.dev/api/films/4/',\n",
       "    'https://swapi.dev/api/films/5/',\n",
       "    'https://swapi.dev/api/films/6/'],\n",
       "   'species': ['https://swapi.dev/api/species/2/'],\n",
       "   'vehicles': [],\n",
       "   'starships': [],\n",
       "   'created': '2014-12-10T15:11:50.376000Z',\n",
       "   'edited': '2014-12-20T21:17:50.311000Z',\n",
       "   'url': 'https://swapi.dev/api/people/3/'},\n",
       "  {'name': 'Darth Vader',\n",
       "   'height': '202',\n",
       "   'mass': '136',\n",
       "   'hair_color': 'none',\n",
       "   'skin_color': 'white',\n",
       "   'eye_color': 'yellow',\n",
       "   'birth_year': '41.9BBY',\n",
       "   'gender': 'male',\n",
       "   'homeworld': 'https://swapi.dev/api/planets/1/',\n",
       "   'films': ['https://swapi.dev/api/films/1/',\n",
       "    'https://swapi.dev/api/films/2/',\n",
       "    'https://swapi.dev/api/films/3/',\n",
       "    'https://swapi.dev/api/films/6/'],\n",
       "   'species': [],\n",
       "   'vehicles': [],\n",
       "   'starships': ['https://swapi.dev/api/starships/13/'],\n",
       "   'created': '2014-12-10T15:18:20.704000Z',\n",
       "   'edited': '2014-12-20T21:17:50.313000Z',\n",
       "   'url': 'https://swapi.dev/api/people/4/'},\n",
       "  {'name': 'Leia Organa',\n",
       "   'height': '150',\n",
       "   'mass': '49',\n",
       "   'hair_color': 'brown',\n",
       "   'skin_color': 'light',\n",
       "   'eye_color': 'brown',\n",
       "   'birth_year': '19BBY',\n",
       "   'gender': 'female',\n",
       "   'homeworld': 'https://swapi.dev/api/planets/2/',\n",
       "   'films': ['https://swapi.dev/api/films/1/',\n",
       "    'https://swapi.dev/api/films/2/',\n",
       "    'https://swapi.dev/api/films/3/',\n",
       "    'https://swapi.dev/api/films/6/'],\n",
       "   'species': [],\n",
       "   'vehicles': ['https://swapi.dev/api/vehicles/30/'],\n",
       "   'starships': [],\n",
       "   'created': '2014-12-10T15:20:09.791000Z',\n",
       "   'edited': '2014-12-20T21:17:50.315000Z',\n",
       "   'url': 'https://swapi.dev/api/people/5/'},\n",
       "  {'name': 'Owen Lars',\n",
       "   'height': '178',\n",
       "   'mass': '120',\n",
       "   'hair_color': 'brown, grey',\n",
       "   'skin_color': 'light',\n",
       "   'eye_color': 'blue',\n",
       "   'birth_year': '52BBY',\n",
       "   'gender': 'male',\n",
       "   'homeworld': 'https://swapi.dev/api/planets/1/',\n",
       "   'films': ['https://swapi.dev/api/films/1/',\n",
       "    'https://swapi.dev/api/films/5/',\n",
       "    'https://swapi.dev/api/films/6/'],\n",
       "   'species': [],\n",
       "   'vehicles': [],\n",
       "   'starships': [],\n",
       "   'created': '2014-12-10T15:52:14.024000Z',\n",
       "   'edited': '2014-12-20T21:17:50.317000Z',\n",
       "   'url': 'https://swapi.dev/api/people/6/'},\n",
       "  {'name': 'Beru Whitesun lars',\n",
       "   'height': '165',\n",
       "   'mass': '75',\n",
       "   'hair_color': 'brown',\n",
       "   'skin_color': 'light',\n",
       "   'eye_color': 'blue',\n",
       "   'birth_year': '47BBY',\n",
       "   'gender': 'female',\n",
       "   'homeworld': 'https://swapi.dev/api/planets/1/',\n",
       "   'films': ['https://swapi.dev/api/films/1/',\n",
       "    'https://swapi.dev/api/films/5/',\n",
       "    'https://swapi.dev/api/films/6/'],\n",
       "   'species': [],\n",
       "   'vehicles': [],\n",
       "   'starships': [],\n",
       "   'created': '2014-12-10T15:53:41.121000Z',\n",
       "   'edited': '2014-12-20T21:17:50.319000Z',\n",
       "   'url': 'https://swapi.dev/api/people/7/'},\n",
       "  {'name': 'R5-D4',\n",
       "   'height': '97',\n",
       "   'mass': '32',\n",
       "   'hair_color': 'n/a',\n",
       "   'skin_color': 'white, red',\n",
       "   'eye_color': 'red',\n",
       "   'birth_year': 'unknown',\n",
       "   'gender': 'n/a',\n",
       "   'homeworld': 'https://swapi.dev/api/planets/1/',\n",
       "   'films': ['https://swapi.dev/api/films/1/'],\n",
       "   'species': ['https://swapi.dev/api/species/2/'],\n",
       "   'vehicles': [],\n",
       "   'starships': [],\n",
       "   'created': '2014-12-10T15:57:50.959000Z',\n",
       "   'edited': '2014-12-20T21:17:50.321000Z',\n",
       "   'url': 'https://swapi.dev/api/people/8/'},\n",
       "  {'name': 'Biggs Darklighter',\n",
       "   'height': '183',\n",
       "   'mass': '84',\n",
       "   'hair_color': 'black',\n",
       "   'skin_color': 'light',\n",
       "   'eye_color': 'brown',\n",
       "   'birth_year': '24BBY',\n",
       "   'gender': 'male',\n",
       "   'homeworld': 'https://swapi.dev/api/planets/1/',\n",
       "   'films': ['https://swapi.dev/api/films/1/'],\n",
       "   'species': [],\n",
       "   'vehicles': [],\n",
       "   'starships': ['https://swapi.dev/api/starships/12/'],\n",
       "   'created': '2014-12-10T15:59:50.509000Z',\n",
       "   'edited': '2014-12-20T21:17:50.323000Z',\n",
       "   'url': 'https://swapi.dev/api/people/9/'},\n",
       "  {'name': 'Obi-Wan Kenobi',\n",
       "   'height': '182',\n",
       "   'mass': '77',\n",
       "   'hair_color': 'auburn, white',\n",
       "   'skin_color': 'fair',\n",
       "   'eye_color': 'blue-gray',\n",
       "   'birth_year': '57BBY',\n",
       "   'gender': 'male',\n",
       "   'homeworld': 'https://swapi.dev/api/planets/20/',\n",
       "   'films': ['https://swapi.dev/api/films/1/',\n",
       "    'https://swapi.dev/api/films/2/',\n",
       "    'https://swapi.dev/api/films/3/',\n",
       "    'https://swapi.dev/api/films/4/',\n",
       "    'https://swapi.dev/api/films/5/',\n",
       "    'https://swapi.dev/api/films/6/'],\n",
       "   'species': [],\n",
       "   'vehicles': ['https://swapi.dev/api/vehicles/38/'],\n",
       "   'starships': ['https://swapi.dev/api/starships/48/',\n",
       "    'https://swapi.dev/api/starships/59/',\n",
       "    'https://swapi.dev/api/starships/64/',\n",
       "    'https://swapi.dev/api/starships/65/',\n",
       "    'https://swapi.dev/api/starships/74/'],\n",
       "   'created': '2014-12-10T16:16:29.192000Z',\n",
       "   'edited': '2014-12-20T21:17:50.325000Z',\n",
       "   'url': 'https://swapi.dev/api/people/10/'}]}"
      ]
     },
     "execution_count": 19,
     "metadata": {},
     "output_type": "execute_result"
    }
   ],
   "source": [
    "people_payload"
   ]
  },
  {
   "cell_type": "code",
   "execution_count": 20,
   "id": "e335f407",
   "metadata": {},
   "outputs": [
    {
     "data": {
      "text/plain": [
       "'https://swapi.dev/api/people/?page=2'"
      ]
     },
     "execution_count": 20,
     "metadata": {},
     "output_type": "execute_result"
    }
   ],
   "source": [
    "people_payload['next']"
   ]
  },
  {
   "cell_type": "code",
   "execution_count": 21,
   "id": "59114e6f",
   "metadata": {},
   "outputs": [
    {
     "data": {
      "text/plain": [
       "{'count': 82,\n",
       " 'next': 'https://swapi.dev/api/people/?page=3',\n",
       " 'previous': 'https://swapi.dev/api/people/?page=1',\n",
       " 'results': [{'name': 'Anakin Skywalker',\n",
       "   'height': '188',\n",
       "   'mass': '84',\n",
       "   'hair_color': 'blond',\n",
       "   'skin_color': 'fair',\n",
       "   'eye_color': 'blue',\n",
       "   'birth_year': '41.9BBY',\n",
       "   'gender': 'male',\n",
       "   'homeworld': 'https://swapi.dev/api/planets/1/',\n",
       "   'films': ['https://swapi.dev/api/films/4/',\n",
       "    'https://swapi.dev/api/films/5/',\n",
       "    'https://swapi.dev/api/films/6/'],\n",
       "   'species': [],\n",
       "   'vehicles': ['https://swapi.dev/api/vehicles/44/',\n",
       "    'https://swapi.dev/api/vehicles/46/'],\n",
       "   'starships': ['https://swapi.dev/api/starships/39/',\n",
       "    'https://swapi.dev/api/starships/59/',\n",
       "    'https://swapi.dev/api/starships/65/'],\n",
       "   'created': '2014-12-10T16:20:44.310000Z',\n",
       "   'edited': '2014-12-20T21:17:50.327000Z',\n",
       "   'url': 'https://swapi.dev/api/people/11/'},\n",
       "  {'name': 'Wilhuff Tarkin',\n",
       "   'height': '180',\n",
       "   'mass': 'unknown',\n",
       "   'hair_color': 'auburn, grey',\n",
       "   'skin_color': 'fair',\n",
       "   'eye_color': 'blue',\n",
       "   'birth_year': '64BBY',\n",
       "   'gender': 'male',\n",
       "   'homeworld': 'https://swapi.dev/api/planets/21/',\n",
       "   'films': ['https://swapi.dev/api/films/1/',\n",
       "    'https://swapi.dev/api/films/6/'],\n",
       "   'species': [],\n",
       "   'vehicles': [],\n",
       "   'starships': [],\n",
       "   'created': '2014-12-10T16:26:56.138000Z',\n",
       "   'edited': '2014-12-20T21:17:50.330000Z',\n",
       "   'url': 'https://swapi.dev/api/people/12/'},\n",
       "  {'name': 'Chewbacca',\n",
       "   'height': '228',\n",
       "   'mass': '112',\n",
       "   'hair_color': 'brown',\n",
       "   'skin_color': 'unknown',\n",
       "   'eye_color': 'blue',\n",
       "   'birth_year': '200BBY',\n",
       "   'gender': 'male',\n",
       "   'homeworld': 'https://swapi.dev/api/planets/14/',\n",
       "   'films': ['https://swapi.dev/api/films/1/',\n",
       "    'https://swapi.dev/api/films/2/',\n",
       "    'https://swapi.dev/api/films/3/',\n",
       "    'https://swapi.dev/api/films/6/'],\n",
       "   'species': ['https://swapi.dev/api/species/3/'],\n",
       "   'vehicles': ['https://swapi.dev/api/vehicles/19/'],\n",
       "   'starships': ['https://swapi.dev/api/starships/10/',\n",
       "    'https://swapi.dev/api/starships/22/'],\n",
       "   'created': '2014-12-10T16:42:45.066000Z',\n",
       "   'edited': '2014-12-20T21:17:50.332000Z',\n",
       "   'url': 'https://swapi.dev/api/people/13/'},\n",
       "  {'name': 'Han Solo',\n",
       "   'height': '180',\n",
       "   'mass': '80',\n",
       "   'hair_color': 'brown',\n",
       "   'skin_color': 'fair',\n",
       "   'eye_color': 'brown',\n",
       "   'birth_year': '29BBY',\n",
       "   'gender': 'male',\n",
       "   'homeworld': 'https://swapi.dev/api/planets/22/',\n",
       "   'films': ['https://swapi.dev/api/films/1/',\n",
       "    'https://swapi.dev/api/films/2/',\n",
       "    'https://swapi.dev/api/films/3/'],\n",
       "   'species': [],\n",
       "   'vehicles': [],\n",
       "   'starships': ['https://swapi.dev/api/starships/10/',\n",
       "    'https://swapi.dev/api/starships/22/'],\n",
       "   'created': '2014-12-10T16:49:14.582000Z',\n",
       "   'edited': '2014-12-20T21:17:50.334000Z',\n",
       "   'url': 'https://swapi.dev/api/people/14/'},\n",
       "  {'name': 'Greedo',\n",
       "   'height': '173',\n",
       "   'mass': '74',\n",
       "   'hair_color': 'n/a',\n",
       "   'skin_color': 'green',\n",
       "   'eye_color': 'black',\n",
       "   'birth_year': '44BBY',\n",
       "   'gender': 'male',\n",
       "   'homeworld': 'https://swapi.dev/api/planets/23/',\n",
       "   'films': ['https://swapi.dev/api/films/1/'],\n",
       "   'species': ['https://swapi.dev/api/species/4/'],\n",
       "   'vehicles': [],\n",
       "   'starships': [],\n",
       "   'created': '2014-12-10T17:03:30.334000Z',\n",
       "   'edited': '2014-12-20T21:17:50.336000Z',\n",
       "   'url': 'https://swapi.dev/api/people/15/'},\n",
       "  {'name': 'Jabba Desilijic Tiure',\n",
       "   'height': '175',\n",
       "   'mass': '1,358',\n",
       "   'hair_color': 'n/a',\n",
       "   'skin_color': 'green-tan, brown',\n",
       "   'eye_color': 'orange',\n",
       "   'birth_year': '600BBY',\n",
       "   'gender': 'hermaphrodite',\n",
       "   'homeworld': 'https://swapi.dev/api/planets/24/',\n",
       "   'films': ['https://swapi.dev/api/films/1/',\n",
       "    'https://swapi.dev/api/films/3/',\n",
       "    'https://swapi.dev/api/films/4/'],\n",
       "   'species': ['https://swapi.dev/api/species/5/'],\n",
       "   'vehicles': [],\n",
       "   'starships': [],\n",
       "   'created': '2014-12-10T17:11:31.638000Z',\n",
       "   'edited': '2014-12-20T21:17:50.338000Z',\n",
       "   'url': 'https://swapi.dev/api/people/16/'},\n",
       "  {'name': 'Wedge Antilles',\n",
       "   'height': '170',\n",
       "   'mass': '77',\n",
       "   'hair_color': 'brown',\n",
       "   'skin_color': 'fair',\n",
       "   'eye_color': 'hazel',\n",
       "   'birth_year': '21BBY',\n",
       "   'gender': 'male',\n",
       "   'homeworld': 'https://swapi.dev/api/planets/22/',\n",
       "   'films': ['https://swapi.dev/api/films/1/',\n",
       "    'https://swapi.dev/api/films/2/',\n",
       "    'https://swapi.dev/api/films/3/'],\n",
       "   'species': [],\n",
       "   'vehicles': ['https://swapi.dev/api/vehicles/14/'],\n",
       "   'starships': ['https://swapi.dev/api/starships/12/'],\n",
       "   'created': '2014-12-12T11:08:06.469000Z',\n",
       "   'edited': '2014-12-20T21:17:50.341000Z',\n",
       "   'url': 'https://swapi.dev/api/people/18/'},\n",
       "  {'name': 'Jek Tono Porkins',\n",
       "   'height': '180',\n",
       "   'mass': '110',\n",
       "   'hair_color': 'brown',\n",
       "   'skin_color': 'fair',\n",
       "   'eye_color': 'blue',\n",
       "   'birth_year': 'unknown',\n",
       "   'gender': 'male',\n",
       "   'homeworld': 'https://swapi.dev/api/planets/26/',\n",
       "   'films': ['https://swapi.dev/api/films/1/'],\n",
       "   'species': [],\n",
       "   'vehicles': [],\n",
       "   'starships': ['https://swapi.dev/api/starships/12/'],\n",
       "   'created': '2014-12-12T11:16:56.569000Z',\n",
       "   'edited': '2014-12-20T21:17:50.343000Z',\n",
       "   'url': 'https://swapi.dev/api/people/19/'},\n",
       "  {'name': 'Yoda',\n",
       "   'height': '66',\n",
       "   'mass': '17',\n",
       "   'hair_color': 'white',\n",
       "   'skin_color': 'green',\n",
       "   'eye_color': 'brown',\n",
       "   'birth_year': '896BBY',\n",
       "   'gender': 'male',\n",
       "   'homeworld': 'https://swapi.dev/api/planets/28/',\n",
       "   'films': ['https://swapi.dev/api/films/2/',\n",
       "    'https://swapi.dev/api/films/3/',\n",
       "    'https://swapi.dev/api/films/4/',\n",
       "    'https://swapi.dev/api/films/5/',\n",
       "    'https://swapi.dev/api/films/6/'],\n",
       "   'species': ['https://swapi.dev/api/species/6/'],\n",
       "   'vehicles': [],\n",
       "   'starships': [],\n",
       "   'created': '2014-12-15T12:26:01.042000Z',\n",
       "   'edited': '2014-12-20T21:17:50.345000Z',\n",
       "   'url': 'https://swapi.dev/api/people/20/'},\n",
       "  {'name': 'Palpatine',\n",
       "   'height': '170',\n",
       "   'mass': '75',\n",
       "   'hair_color': 'grey',\n",
       "   'skin_color': 'pale',\n",
       "   'eye_color': 'yellow',\n",
       "   'birth_year': '82BBY',\n",
       "   'gender': 'male',\n",
       "   'homeworld': 'https://swapi.dev/api/planets/8/',\n",
       "   'films': ['https://swapi.dev/api/films/2/',\n",
       "    'https://swapi.dev/api/films/3/',\n",
       "    'https://swapi.dev/api/films/4/',\n",
       "    'https://swapi.dev/api/films/5/',\n",
       "    'https://swapi.dev/api/films/6/'],\n",
       "   'species': [],\n",
       "   'vehicles': [],\n",
       "   'starships': [],\n",
       "   'created': '2014-12-15T12:48:05.971000Z',\n",
       "   'edited': '2014-12-20T21:17:50.347000Z',\n",
       "   'url': 'https://swapi.dev/api/people/21/'}]}"
      ]
     },
     "execution_count": 21,
     "metadata": {},
     "output_type": "execute_result"
    }
   ],
   "source": [
    "requests.get(people_payload['next']).json()"
   ]
  },
  {
   "cell_type": "code",
   "execution_count": 22,
   "id": "3de887c6",
   "metadata": {},
   "outputs": [
    {
     "data": {
      "text/plain": [
       "'https://swapi.dev/api/people/?page=82'"
      ]
     },
     "execution_count": 22,
     "metadata": {},
     "output_type": "execute_result"
    }
   ],
   "source": [
    "'https://swapi.dev/api/people/?page=82'"
   ]
  },
  {
   "cell_type": "code",
   "execution_count": 23,
   "id": "d22908bb",
   "metadata": {},
   "outputs": [
    {
     "data": {
      "text/plain": [
       "{'detail': 'Not found'}"
      ]
     },
     "execution_count": 23,
     "metadata": {},
     "output_type": "execute_result"
    }
   ],
   "source": [
    "requests.get('https://swapi.dev/api/people/?page=81').json()"
   ]
  },
  {
   "cell_type": "code",
   "execution_count": 24,
   "id": "ccb34f07",
   "metadata": {},
   "outputs": [
    {
     "data": {
      "text/plain": [
       "dict_keys(['count', 'next', 'previous', 'results'])"
      ]
     },
     "execution_count": 24,
     "metadata": {},
     "output_type": "execute_result"
    }
   ],
   "source": [
    "people_payload.keys()"
   ]
  },
  {
   "cell_type": "code",
   "execution_count": 25,
   "id": "d69f8745",
   "metadata": {},
   "outputs": [],
   "source": [
    "people_results_page_one = pd.DataFrame(people_payload['results'])"
   ]
  },
  {
   "cell_type": "markdown",
   "id": "8e3264b8",
   "metadata": {},
   "source": [
    "Steps we took:\n",
    "\n",
    "go tothe home page\n",
    "\n",
    "requests.get() on the home page\n",
    "\n",
    "homepage  content had a new endpoints\n",
    "\n",
    "pick the endpoint for people,\n",
    "\n",
    "userequests.get for that endpoint\n",
    "\n",
    "get the results value out of that\n",
    "\n",
    "whichisa list of dictionaries\n",
    "\n",
    "use that list of dictionaries struct to get a dataframe\n",
    "\n",
    "makea request on the second page\n",
    "\n",
    "use the endpoint associated in the url\n",
    "\n",
    "stored in the 'next'\n",
    "\n",
    "and use that to get new results\n",
    "\n"
   ]
  },
  {
   "cell_type": "code",
   "execution_count": 26,
   "id": "d565c7c7",
   "metadata": {},
   "outputs": [],
   "source": [
    "people_payload_two = requests.get(people_payload['next']).json()"
   ]
  },
  {
   "cell_type": "code",
   "execution_count": 27,
   "id": "3e59a393",
   "metadata": {},
   "outputs": [],
   "source": [
    "page_two = pd.DataFrame(people_payload_two['results'])"
   ]
  },
  {
   "cell_type": "code",
   "execution_count": 28,
   "id": "f9a95083",
   "metadata": {},
   "outputs": [
    {
     "data": {
      "text/plain": [
       "'https://swapi.dev/api/people/?page=2'"
      ]
     },
     "execution_count": 28,
     "metadata": {},
     "output_type": "execute_result"
    }
   ],
   "source": [
    "people_payload['next']"
   ]
  },
  {
   "cell_type": "code",
   "execution_count": 29,
   "id": "0d1f068c",
   "metadata": {},
   "outputs": [],
   "source": [
    "# if I want to loop through these to create the whole dataset:\n",
    "i = 4\n",
    "my_changeable_url = f'https://swapi.dev/api/people/?page={i}'"
   ]
  },
  {
   "cell_type": "code",
   "execution_count": 30,
   "id": "7e7c1c76",
   "metadata": {},
   "outputs": [
    {
     "data": {
      "text/plain": [
       "'https://swapi.dev/api/people/?page=4'"
      ]
     },
     "execution_count": 30,
     "metadata": {},
     "output_type": "execute_result"
    }
   ],
   "source": [
    "my_changeable_url"
   ]
  },
  {
   "cell_type": "markdown",
   "id": "4642ee8d",
   "metadata": {},
   "source": [
    "Think about the way that we may want to loop through this content in order to result in a dataframe that has all of the info: \n",
    "\n",
    "steps that I would want to take to get all of the people info:\n",
    "\n",
    "access the first people page, \n",
    "\n",
    "I note that it has a [next] value and a [results] value \n",
    "\n",
    "I can cast results as a dataframe, and next contains a url for the next page, that eventually returns a null when there is no next page"
   ]
  },
  {
   "cell_type": "markdown",
   "id": "53cd00a7",
   "metadata": {},
   "source": [
    "steps:\n",
    "    \n",
    "    while next page is not null: \n",
    "        \n",
    "        grab content\n",
    "        \n",
    "        turn the content into dataframe\n",
    "        \n",
    "        concatenate the page of content to whatever df i have already"
   ]
  },
  {
   "cell_type": "code",
   "execution_count": 31,
   "id": "ee064749",
   "metadata": {},
   "outputs": [
    {
     "data": {
      "text/html": [
       "<div>\n",
       "<style scoped>\n",
       "    .dataframe tbody tr th:only-of-type {\n",
       "        vertical-align: middle;\n",
       "    }\n",
       "\n",
       "    .dataframe tbody tr th {\n",
       "        vertical-align: top;\n",
       "    }\n",
       "\n",
       "    .dataframe thead th {\n",
       "        text-align: right;\n",
       "    }\n",
       "</style>\n",
       "<table border=\"1\" class=\"dataframe\">\n",
       "  <thead>\n",
       "    <tr style=\"text-align: right;\">\n",
       "      <th></th>\n",
       "      <th>name</th>\n",
       "      <th>height</th>\n",
       "      <th>mass</th>\n",
       "      <th>hair_color</th>\n",
       "      <th>skin_color</th>\n",
       "      <th>eye_color</th>\n",
       "      <th>birth_year</th>\n",
       "      <th>gender</th>\n",
       "      <th>homeworld</th>\n",
       "      <th>films</th>\n",
       "      <th>species</th>\n",
       "      <th>vehicles</th>\n",
       "      <th>starships</th>\n",
       "      <th>created</th>\n",
       "      <th>edited</th>\n",
       "      <th>url</th>\n",
       "    </tr>\n",
       "  </thead>\n",
       "  <tbody>\n",
       "    <tr>\n",
       "      <th>0</th>\n",
       "      <td>Luke Skywalker</td>\n",
       "      <td>172</td>\n",
       "      <td>77</td>\n",
       "      <td>blond</td>\n",
       "      <td>fair</td>\n",
       "      <td>blue</td>\n",
       "      <td>19BBY</td>\n",
       "      <td>male</td>\n",
       "      <td>https://swapi.dev/api/planets/1/</td>\n",
       "      <td>[https://swapi.dev/api/films/1/, https://swapi...</td>\n",
       "      <td>[]</td>\n",
       "      <td>[https://swapi.dev/api/vehicles/14/, https://s...</td>\n",
       "      <td>[https://swapi.dev/api/starships/12/, https://...</td>\n",
       "      <td>2014-12-09T13:50:51.644000Z</td>\n",
       "      <td>2014-12-20T21:17:56.891000Z</td>\n",
       "      <td>https://swapi.dev/api/people/1/</td>\n",
       "    </tr>\n",
       "    <tr>\n",
       "      <th>1</th>\n",
       "      <td>C-3PO</td>\n",
       "      <td>167</td>\n",
       "      <td>75</td>\n",
       "      <td>n/a</td>\n",
       "      <td>gold</td>\n",
       "      <td>yellow</td>\n",
       "      <td>112BBY</td>\n",
       "      <td>n/a</td>\n",
       "      <td>https://swapi.dev/api/planets/1/</td>\n",
       "      <td>[https://swapi.dev/api/films/1/, https://swapi...</td>\n",
       "      <td>[https://swapi.dev/api/species/2/]</td>\n",
       "      <td>[]</td>\n",
       "      <td>[]</td>\n",
       "      <td>2014-12-10T15:10:51.357000Z</td>\n",
       "      <td>2014-12-20T21:17:50.309000Z</td>\n",
       "      <td>https://swapi.dev/api/people/2/</td>\n",
       "    </tr>\n",
       "  </tbody>\n",
       "</table>\n",
       "</div>"
      ],
      "text/plain": [
       "             name height mass hair_color skin_color eye_color birth_year  \\\n",
       "0  Luke Skywalker    172   77      blond       fair      blue      19BBY   \n",
       "1           C-3PO    167   75        n/a       gold    yellow     112BBY   \n",
       "\n",
       "  gender                         homeworld  \\\n",
       "0   male  https://swapi.dev/api/planets/1/   \n",
       "1    n/a  https://swapi.dev/api/planets/1/   \n",
       "\n",
       "                                               films  \\\n",
       "0  [https://swapi.dev/api/films/1/, https://swapi...   \n",
       "1  [https://swapi.dev/api/films/1/, https://swapi...   \n",
       "\n",
       "                              species  \\\n",
       "0                                  []   \n",
       "1  [https://swapi.dev/api/species/2/]   \n",
       "\n",
       "                                            vehicles  \\\n",
       "0  [https://swapi.dev/api/vehicles/14/, https://s...   \n",
       "1                                                 []   \n",
       "\n",
       "                                           starships  \\\n",
       "0  [https://swapi.dev/api/starships/12/, https://...   \n",
       "1                                                 []   \n",
       "\n",
       "                       created                       edited  \\\n",
       "0  2014-12-09T13:50:51.644000Z  2014-12-20T21:17:56.891000Z   \n",
       "1  2014-12-10T15:10:51.357000Z  2014-12-20T21:17:50.309000Z   \n",
       "\n",
       "                               url  \n",
       "0  https://swapi.dev/api/people/1/  \n",
       "1  https://swapi.dev/api/people/2/  "
      ]
     },
     "execution_count": 31,
     "metadata": {},
     "output_type": "execute_result"
    }
   ],
   "source": [
    "people_results_page_one.head(2)"
   ]
  },
  {
   "cell_type": "code",
   "execution_count": 32,
   "id": "b904f4dd",
   "metadata": {},
   "outputs": [
    {
     "data": {
      "text/html": [
       "<div>\n",
       "<style scoped>\n",
       "    .dataframe tbody tr th:only-of-type {\n",
       "        vertical-align: middle;\n",
       "    }\n",
       "\n",
       "    .dataframe tbody tr th {\n",
       "        vertical-align: top;\n",
       "    }\n",
       "\n",
       "    .dataframe thead th {\n",
       "        text-align: right;\n",
       "    }\n",
       "</style>\n",
       "<table border=\"1\" class=\"dataframe\">\n",
       "  <thead>\n",
       "    <tr style=\"text-align: right;\">\n",
       "      <th></th>\n",
       "      <th>name</th>\n",
       "      <th>height</th>\n",
       "      <th>mass</th>\n",
       "      <th>hair_color</th>\n",
       "      <th>skin_color</th>\n",
       "      <th>eye_color</th>\n",
       "      <th>birth_year</th>\n",
       "      <th>gender</th>\n",
       "      <th>homeworld</th>\n",
       "      <th>films</th>\n",
       "      <th>species</th>\n",
       "      <th>vehicles</th>\n",
       "      <th>starships</th>\n",
       "      <th>created</th>\n",
       "      <th>edited</th>\n",
       "      <th>url</th>\n",
       "    </tr>\n",
       "  </thead>\n",
       "  <tbody>\n",
       "    <tr>\n",
       "      <th>0</th>\n",
       "      <td>Anakin Skywalker</td>\n",
       "      <td>188</td>\n",
       "      <td>84</td>\n",
       "      <td>blond</td>\n",
       "      <td>fair</td>\n",
       "      <td>blue</td>\n",
       "      <td>41.9BBY</td>\n",
       "      <td>male</td>\n",
       "      <td>https://swapi.dev/api/planets/1/</td>\n",
       "      <td>[https://swapi.dev/api/films/4/, https://swapi...</td>\n",
       "      <td>[]</td>\n",
       "      <td>[https://swapi.dev/api/vehicles/44/, https://s...</td>\n",
       "      <td>[https://swapi.dev/api/starships/39/, https://...</td>\n",
       "      <td>2014-12-10T16:20:44.310000Z</td>\n",
       "      <td>2014-12-20T21:17:50.327000Z</td>\n",
       "      <td>https://swapi.dev/api/people/11/</td>\n",
       "    </tr>\n",
       "    <tr>\n",
       "      <th>1</th>\n",
       "      <td>Wilhuff Tarkin</td>\n",
       "      <td>180</td>\n",
       "      <td>unknown</td>\n",
       "      <td>auburn, grey</td>\n",
       "      <td>fair</td>\n",
       "      <td>blue</td>\n",
       "      <td>64BBY</td>\n",
       "      <td>male</td>\n",
       "      <td>https://swapi.dev/api/planets/21/</td>\n",
       "      <td>[https://swapi.dev/api/films/1/, https://swapi...</td>\n",
       "      <td>[]</td>\n",
       "      <td>[]</td>\n",
       "      <td>[]</td>\n",
       "      <td>2014-12-10T16:26:56.138000Z</td>\n",
       "      <td>2014-12-20T21:17:50.330000Z</td>\n",
       "      <td>https://swapi.dev/api/people/12/</td>\n",
       "    </tr>\n",
       "  </tbody>\n",
       "</table>\n",
       "</div>"
      ],
      "text/plain": [
       "               name height     mass    hair_color skin_color eye_color  \\\n",
       "0  Anakin Skywalker    188       84         blond       fair      blue   \n",
       "1    Wilhuff Tarkin    180  unknown  auburn, grey       fair      blue   \n",
       "\n",
       "  birth_year gender                          homeworld  \\\n",
       "0    41.9BBY   male   https://swapi.dev/api/planets/1/   \n",
       "1      64BBY   male  https://swapi.dev/api/planets/21/   \n",
       "\n",
       "                                               films species  \\\n",
       "0  [https://swapi.dev/api/films/4/, https://swapi...      []   \n",
       "1  [https://swapi.dev/api/films/1/, https://swapi...      []   \n",
       "\n",
       "                                            vehicles  \\\n",
       "0  [https://swapi.dev/api/vehicles/44/, https://s...   \n",
       "1                                                 []   \n",
       "\n",
       "                                           starships  \\\n",
       "0  [https://swapi.dev/api/starships/39/, https://...   \n",
       "1                                                 []   \n",
       "\n",
       "                       created                       edited  \\\n",
       "0  2014-12-10T16:20:44.310000Z  2014-12-20T21:17:50.327000Z   \n",
       "1  2014-12-10T16:26:56.138000Z  2014-12-20T21:17:50.330000Z   \n",
       "\n",
       "                                url  \n",
       "0  https://swapi.dev/api/people/11/  \n",
       "1  https://swapi.dev/api/people/12/  "
      ]
     },
     "execution_count": 32,
     "metadata": {},
     "output_type": "execute_result"
    }
   ],
   "source": [
    "page_two.head(2)"
   ]
  },
  {
   "cell_type": "markdown",
   "id": "cf9efe9c",
   "metadata": {},
   "source": [
    "initially, thefirst page you get should probably be named whatever you want your final data set named, because we are going to use reassignment within the looping structure to concatenate the old version to the new page, adding the page results iteratively\n",
    "\n"
   ]
  },
  {
   "cell_type": "code",
   "execution_count": 33,
   "id": "f16c7dec",
   "metadata": {},
   "outputs": [],
   "source": [
    "people = people_results_page_one.copy()"
   ]
  },
  {
   "cell_type": "code",
   "execution_count": 38,
   "id": "cae43e13",
   "metadata": {},
   "outputs": [
    {
     "data": {
      "text/plain": [
       "(10, 16)"
      ]
     },
     "execution_count": 38,
     "metadata": {},
     "output_type": "execute_result"
    }
   ],
   "source": [
    "people.shape"
   ]
  },
  {
   "cell_type": "code",
   "execution_count": 48,
   "id": "8fff0c97",
   "metadata": {},
   "outputs": [
    {
     "name": "stdout",
     "output_type": "stream",
     "text": [
      "               name height mass hair_color    skin_color      eye_color  \\\n",
      "0    Luke Skywalker    172   77      blond          fair           blue   \n",
      "1             C-3PO    167   75        n/a          gold         yellow   \n",
      "2             R2-D2     96   32        n/a   white, blue            red   \n",
      "3       Darth Vader    202  136       none         white         yellow   \n",
      "4       Leia Organa    150   49      brown         light          brown   \n",
      "..              ...    ...  ...        ...           ...            ...   \n",
      "77         Grievous    216  159       none  brown, white  green, yellow   \n",
      "78          Tarfful    234  136      brown         brown           blue   \n",
      "79  Raymus Antilles    188   79      brown         light          brown   \n",
      "80        Sly Moore    178   48       none          pale          white   \n",
      "81       Tion Medon    206   80       none          grey          black   \n",
      "\n",
      "   birth_year  gender                          homeworld  \\\n",
      "0       19BBY    male   https://swapi.dev/api/planets/1/   \n",
      "1      112BBY     n/a   https://swapi.dev/api/planets/1/   \n",
      "2       33BBY     n/a   https://swapi.dev/api/planets/8/   \n",
      "3     41.9BBY    male   https://swapi.dev/api/planets/1/   \n",
      "4       19BBY  female   https://swapi.dev/api/planets/2/   \n",
      "..        ...     ...                                ...   \n",
      "77    unknown    male  https://swapi.dev/api/planets/59/   \n",
      "78    unknown    male  https://swapi.dev/api/planets/14/   \n",
      "79    unknown    male   https://swapi.dev/api/planets/2/   \n",
      "80    unknown  female  https://swapi.dev/api/planets/60/   \n",
      "81    unknown    male  https://swapi.dev/api/planets/12/   \n",
      "\n",
      "                                                films  \\\n",
      "0   [https://swapi.dev/api/films/1/, https://swapi...   \n",
      "1   [https://swapi.dev/api/films/1/, https://swapi...   \n",
      "2   [https://swapi.dev/api/films/1/, https://swapi...   \n",
      "3   [https://swapi.dev/api/films/1/, https://swapi...   \n",
      "4   [https://swapi.dev/api/films/1/, https://swapi...   \n",
      "..                                                ...   \n",
      "77                   [https://swapi.dev/api/films/6/]   \n",
      "78                   [https://swapi.dev/api/films/6/]   \n",
      "79  [https://swapi.dev/api/films/1/, https://swapi...   \n",
      "80  [https://swapi.dev/api/films/5/, https://swapi...   \n",
      "81                   [https://swapi.dev/api/films/6/]   \n",
      "\n",
      "                                species  \\\n",
      "0                                    []   \n",
      "1    [https://swapi.dev/api/species/2/]   \n",
      "2    [https://swapi.dev/api/species/2/]   \n",
      "3                                    []   \n",
      "4                                    []   \n",
      "..                                  ...   \n",
      "77  [https://swapi.dev/api/species/36/]   \n",
      "78   [https://swapi.dev/api/species/3/]   \n",
      "79                                   []   \n",
      "80                                   []   \n",
      "81  [https://swapi.dev/api/species/37/]   \n",
      "\n",
      "                                             vehicles  \\\n",
      "0   [https://swapi.dev/api/vehicles/14/, https://s...   \n",
      "1                                                  []   \n",
      "2                                                  []   \n",
      "3                                                  []   \n",
      "4                [https://swapi.dev/api/vehicles/30/]   \n",
      "..                                                ...   \n",
      "77               [https://swapi.dev/api/vehicles/60/]   \n",
      "78                                                 []   \n",
      "79                                                 []   \n",
      "80                                                 []   \n",
      "81                                                 []   \n",
      "\n",
      "                                            starships  \\\n",
      "0   [https://swapi.dev/api/starships/12/, https://...   \n",
      "1                                                  []   \n",
      "2                                                  []   \n",
      "3               [https://swapi.dev/api/starships/13/]   \n",
      "4                                                  []   \n",
      "..                                                ...   \n",
      "77              [https://swapi.dev/api/starships/74/]   \n",
      "78                                                 []   \n",
      "79                                                 []   \n",
      "80                                                 []   \n",
      "81                                                 []   \n",
      "\n",
      "                        created                       edited  \\\n",
      "0   2014-12-09T13:50:51.644000Z  2014-12-20T21:17:56.891000Z   \n",
      "1   2014-12-10T15:10:51.357000Z  2014-12-20T21:17:50.309000Z   \n",
      "2   2014-12-10T15:11:50.376000Z  2014-12-20T21:17:50.311000Z   \n",
      "3   2014-12-10T15:18:20.704000Z  2014-12-20T21:17:50.313000Z   \n",
      "4   2014-12-10T15:20:09.791000Z  2014-12-20T21:17:50.315000Z   \n",
      "..                          ...                          ...   \n",
      "77  2014-12-20T19:43:53.348000Z  2014-12-20T21:17:50.488000Z   \n",
      "78  2014-12-20T19:46:34.209000Z  2014-12-20T21:17:50.491000Z   \n",
      "79  2014-12-20T19:49:35.583000Z  2014-12-20T21:17:50.493000Z   \n",
      "80  2014-12-20T20:18:37.619000Z  2014-12-20T21:17:50.496000Z   \n",
      "81  2014-12-20T20:35:04.260000Z  2014-12-20T21:17:50.498000Z   \n",
      "\n",
      "                                 url  \n",
      "0    https://swapi.dev/api/people/1/  \n",
      "1    https://swapi.dev/api/people/2/  \n",
      "2    https://swapi.dev/api/people/3/  \n",
      "3    https://swapi.dev/api/people/4/  \n",
      "4    https://swapi.dev/api/people/5/  \n",
      "..                               ...  \n",
      "77  https://swapi.dev/api/people/79/  \n",
      "78  https://swapi.dev/api/people/80/  \n",
      "79  https://swapi.dev/api/people/81/  \n",
      "80  https://swapi.dev/api/people/82/  \n",
      "81  https://swapi.dev/api/people/83/  \n",
      "\n",
      "[82 rows x 16 columns]\n"
     ]
    }
   ],
   "source": [
    "we_the_people_df = pd.DataFrame()\n",
    "page = 1\n",
    "\n",
    "while True: \n",
    "    api_url =f'https://swapi.dev/api/people/?page={page}'\n",
    "    response = requests.get(api_url)\n",
    "    if response.status_code == 200:\n",
    "        people_payload = response.json()\n",
    "        current_page = people_payload.get('results',[])\n",
    "        current_page_df = pd.DataFrame(current_page)\n",
    "        we_the_people_df = pd.concat([we_the_people_df, current_page_df], ignore_index=True)\n",
    "        if people_payload.get('next'):\n",
    "            page += 1\n",
    "        else:\n",
    "            break\n",
    "    else:\n",
    "        print(\"go ask chat GPT\")\n",
    "        \n",
    "print(we_the_people_df)"
   ]
  },
  {
   "cell_type": "code",
   "execution_count": 55,
   "id": "0b7281f5",
   "metadata": {},
   "outputs": [
    {
     "data": {
      "text/plain": [
       "(82, 16)"
      ]
     },
     "execution_count": 55,
     "metadata": {},
     "output_type": "execute_result"
    }
   ],
   "source": [
    "we_the_people_df.shape"
   ]
  },
  {
   "cell_type": "code",
   "execution_count": 54,
   "id": "63f52d2d",
   "metadata": {},
   "outputs": [
    {
     "data": {
      "text/html": [
       "<div>\n",
       "<style scoped>\n",
       "    .dataframe tbody tr th:only-of-type {\n",
       "        vertical-align: middle;\n",
       "    }\n",
       "\n",
       "    .dataframe tbody tr th {\n",
       "        vertical-align: top;\n",
       "    }\n",
       "\n",
       "    .dataframe thead th {\n",
       "        text-align: right;\n",
       "    }\n",
       "</style>\n",
       "<table border=\"1\" class=\"dataframe\">\n",
       "  <thead>\n",
       "    <tr style=\"text-align: right;\">\n",
       "      <th></th>\n",
       "      <th>name</th>\n",
       "      <th>height</th>\n",
       "      <th>mass</th>\n",
       "      <th>hair_color</th>\n",
       "      <th>skin_color</th>\n",
       "      <th>eye_color</th>\n",
       "      <th>birth_year</th>\n",
       "      <th>gender</th>\n",
       "      <th>homeworld</th>\n",
       "      <th>films</th>\n",
       "      <th>species</th>\n",
       "      <th>vehicles</th>\n",
       "      <th>starships</th>\n",
       "      <th>created</th>\n",
       "      <th>edited</th>\n",
       "      <th>url</th>\n",
       "    </tr>\n",
       "  </thead>\n",
       "  <tbody>\n",
       "    <tr>\n",
       "      <th>0</th>\n",
       "      <td>Luke Skywalker</td>\n",
       "      <td>172</td>\n",
       "      <td>77</td>\n",
       "      <td>blond</td>\n",
       "      <td>fair</td>\n",
       "      <td>blue</td>\n",
       "      <td>19BBY</td>\n",
       "      <td>male</td>\n",
       "      <td>https://swapi.dev/api/planets/1/</td>\n",
       "      <td>[https://swapi.dev/api/films/1/, https://swapi...</td>\n",
       "      <td>[]</td>\n",
       "      <td>[https://swapi.dev/api/vehicles/14/, https://s...</td>\n",
       "      <td>[https://swapi.dev/api/starships/12/, https://...</td>\n",
       "      <td>2014-12-09T13:50:51.644000Z</td>\n",
       "      <td>2014-12-20T21:17:56.891000Z</td>\n",
       "      <td>https://swapi.dev/api/people/1/</td>\n",
       "    </tr>\n",
       "    <tr>\n",
       "      <th>1</th>\n",
       "      <td>C-3PO</td>\n",
       "      <td>167</td>\n",
       "      <td>75</td>\n",
       "      <td>n/a</td>\n",
       "      <td>gold</td>\n",
       "      <td>yellow</td>\n",
       "      <td>112BBY</td>\n",
       "      <td>n/a</td>\n",
       "      <td>https://swapi.dev/api/planets/1/</td>\n",
       "      <td>[https://swapi.dev/api/films/1/, https://swapi...</td>\n",
       "      <td>[https://swapi.dev/api/species/2/]</td>\n",
       "      <td>[]</td>\n",
       "      <td>[]</td>\n",
       "      <td>2014-12-10T15:10:51.357000Z</td>\n",
       "      <td>2014-12-20T21:17:50.309000Z</td>\n",
       "      <td>https://swapi.dev/api/people/2/</td>\n",
       "    </tr>\n",
       "    <tr>\n",
       "      <th>2</th>\n",
       "      <td>R2-D2</td>\n",
       "      <td>96</td>\n",
       "      <td>32</td>\n",
       "      <td>n/a</td>\n",
       "      <td>white, blue</td>\n",
       "      <td>red</td>\n",
       "      <td>33BBY</td>\n",
       "      <td>n/a</td>\n",
       "      <td>https://swapi.dev/api/planets/8/</td>\n",
       "      <td>[https://swapi.dev/api/films/1/, https://swapi...</td>\n",
       "      <td>[https://swapi.dev/api/species/2/]</td>\n",
       "      <td>[]</td>\n",
       "      <td>[]</td>\n",
       "      <td>2014-12-10T15:11:50.376000Z</td>\n",
       "      <td>2014-12-20T21:17:50.311000Z</td>\n",
       "      <td>https://swapi.dev/api/people/3/</td>\n",
       "    </tr>\n",
       "    <tr>\n",
       "      <th>3</th>\n",
       "      <td>Darth Vader</td>\n",
       "      <td>202</td>\n",
       "      <td>136</td>\n",
       "      <td>none</td>\n",
       "      <td>white</td>\n",
       "      <td>yellow</td>\n",
       "      <td>41.9BBY</td>\n",
       "      <td>male</td>\n",
       "      <td>https://swapi.dev/api/planets/1/</td>\n",
       "      <td>[https://swapi.dev/api/films/1/, https://swapi...</td>\n",
       "      <td>[]</td>\n",
       "      <td>[]</td>\n",
       "      <td>[https://swapi.dev/api/starships/13/]</td>\n",
       "      <td>2014-12-10T15:18:20.704000Z</td>\n",
       "      <td>2014-12-20T21:17:50.313000Z</td>\n",
       "      <td>https://swapi.dev/api/people/4/</td>\n",
       "    </tr>\n",
       "    <tr>\n",
       "      <th>4</th>\n",
       "      <td>Leia Organa</td>\n",
       "      <td>150</td>\n",
       "      <td>49</td>\n",
       "      <td>brown</td>\n",
       "      <td>light</td>\n",
       "      <td>brown</td>\n",
       "      <td>19BBY</td>\n",
       "      <td>female</td>\n",
       "      <td>https://swapi.dev/api/planets/2/</td>\n",
       "      <td>[https://swapi.dev/api/films/1/, https://swapi...</td>\n",
       "      <td>[]</td>\n",
       "      <td>[https://swapi.dev/api/vehicles/30/]</td>\n",
       "      <td>[]</td>\n",
       "      <td>2014-12-10T15:20:09.791000Z</td>\n",
       "      <td>2014-12-20T21:17:50.315000Z</td>\n",
       "      <td>https://swapi.dev/api/people/5/</td>\n",
       "    </tr>\n",
       "  </tbody>\n",
       "</table>\n",
       "</div>"
      ],
      "text/plain": [
       "             name height mass hair_color   skin_color eye_color birth_year  \\\n",
       "0  Luke Skywalker    172   77      blond         fair      blue      19BBY   \n",
       "1           C-3PO    167   75        n/a         gold    yellow     112BBY   \n",
       "2           R2-D2     96   32        n/a  white, blue       red      33BBY   \n",
       "3     Darth Vader    202  136       none        white    yellow    41.9BBY   \n",
       "4     Leia Organa    150   49      brown        light     brown      19BBY   \n",
       "\n",
       "   gender                         homeworld  \\\n",
       "0    male  https://swapi.dev/api/planets/1/   \n",
       "1     n/a  https://swapi.dev/api/planets/1/   \n",
       "2     n/a  https://swapi.dev/api/planets/8/   \n",
       "3    male  https://swapi.dev/api/planets/1/   \n",
       "4  female  https://swapi.dev/api/planets/2/   \n",
       "\n",
       "                                               films  \\\n",
       "0  [https://swapi.dev/api/films/1/, https://swapi...   \n",
       "1  [https://swapi.dev/api/films/1/, https://swapi...   \n",
       "2  [https://swapi.dev/api/films/1/, https://swapi...   \n",
       "3  [https://swapi.dev/api/films/1/, https://swapi...   \n",
       "4  [https://swapi.dev/api/films/1/, https://swapi...   \n",
       "\n",
       "                              species  \\\n",
       "0                                  []   \n",
       "1  [https://swapi.dev/api/species/2/]   \n",
       "2  [https://swapi.dev/api/species/2/]   \n",
       "3                                  []   \n",
       "4                                  []   \n",
       "\n",
       "                                            vehicles  \\\n",
       "0  [https://swapi.dev/api/vehicles/14/, https://s...   \n",
       "1                                                 []   \n",
       "2                                                 []   \n",
       "3                                                 []   \n",
       "4               [https://swapi.dev/api/vehicles/30/]   \n",
       "\n",
       "                                           starships  \\\n",
       "0  [https://swapi.dev/api/starships/12/, https://...   \n",
       "1                                                 []   \n",
       "2                                                 []   \n",
       "3              [https://swapi.dev/api/starships/13/]   \n",
       "4                                                 []   \n",
       "\n",
       "                       created                       edited  \\\n",
       "0  2014-12-09T13:50:51.644000Z  2014-12-20T21:17:56.891000Z   \n",
       "1  2014-12-10T15:10:51.357000Z  2014-12-20T21:17:50.309000Z   \n",
       "2  2014-12-10T15:11:50.376000Z  2014-12-20T21:17:50.311000Z   \n",
       "3  2014-12-10T15:18:20.704000Z  2014-12-20T21:17:50.313000Z   \n",
       "4  2014-12-10T15:20:09.791000Z  2014-12-20T21:17:50.315000Z   \n",
       "\n",
       "                               url  \n",
       "0  https://swapi.dev/api/people/1/  \n",
       "1  https://swapi.dev/api/people/2/  \n",
       "2  https://swapi.dev/api/people/3/  \n",
       "3  https://swapi.dev/api/people/4/  \n",
       "4  https://swapi.dev/api/people/5/  "
      ]
     },
     "execution_count": 54,
     "metadata": {},
     "output_type": "execute_result"
    }
   ],
   "source": [
    "we_the_people_df.head()"
   ]
  },
  {
   "cell_type": "code",
   "execution_count": null,
   "id": "a914814b",
   "metadata": {},
   "outputs": [],
   "source": [
    "we_the_people_df.row"
   ]
  },
  {
   "cell_type": "code",
   "execution_count": 60,
   "id": "6b92f049",
   "metadata": {},
   "outputs": [
    {
     "ename": "KeyError",
     "evalue": "'home'",
     "output_type": "error",
     "traceback": [
      "\u001b[0;31m---------------------------------------------------------------------------\u001b[0m",
      "\u001b[0;31mKeyError\u001b[0m                                  Traceback (most recent call last)",
      "File \u001b[0;32m/opt/homebrew/anaconda3/lib/python3.10/site-packages/pandas/core/indexes/base.py:3802\u001b[0m, in \u001b[0;36mIndex.get_loc\u001b[0;34m(self, key, method, tolerance)\u001b[0m\n\u001b[1;32m   3801\u001b[0m \u001b[38;5;28;01mtry\u001b[39;00m:\n\u001b[0;32m-> 3802\u001b[0m     \u001b[38;5;28;01mreturn\u001b[39;00m \u001b[38;5;28;43mself\u001b[39;49m\u001b[38;5;241;43m.\u001b[39;49m\u001b[43m_engine\u001b[49m\u001b[38;5;241;43m.\u001b[39;49m\u001b[43mget_loc\u001b[49m\u001b[43m(\u001b[49m\u001b[43mcasted_key\u001b[49m\u001b[43m)\u001b[49m\n\u001b[1;32m   3803\u001b[0m \u001b[38;5;28;01mexcept\u001b[39;00m \u001b[38;5;167;01mKeyError\u001b[39;00m \u001b[38;5;28;01mas\u001b[39;00m err:\n",
      "File \u001b[0;32m/opt/homebrew/anaconda3/lib/python3.10/site-packages/pandas/_libs/index.pyx:138\u001b[0m, in \u001b[0;36mpandas._libs.index.IndexEngine.get_loc\u001b[0;34m()\u001b[0m\n",
      "File \u001b[0;32m/opt/homebrew/anaconda3/lib/python3.10/site-packages/pandas/_libs/index.pyx:165\u001b[0m, in \u001b[0;36mpandas._libs.index.IndexEngine.get_loc\u001b[0;34m()\u001b[0m\n",
      "File \u001b[0;32mpandas/_libs/hashtable_class_helper.pxi:5745\u001b[0m, in \u001b[0;36mpandas._libs.hashtable.PyObjectHashTable.get_item\u001b[0;34m()\u001b[0m\n",
      "File \u001b[0;32mpandas/_libs/hashtable_class_helper.pxi:5753\u001b[0m, in \u001b[0;36mpandas._libs.hashtable.PyObjectHashTable.get_item\u001b[0;34m()\u001b[0m\n",
      "\u001b[0;31mKeyError\u001b[0m: 'home'",
      "\nThe above exception was the direct cause of the following exception:\n",
      "\u001b[0;31mKeyError\u001b[0m                                  Traceback (most recent call last)",
      "Cell \u001b[0;32mIn[60], line 3\u001b[0m\n\u001b[1;32m      1\u001b[0m \u001b[38;5;66;03m# Iterate through the rows of we_the_people_df\u001b[39;00m\n\u001b[1;32m      2\u001b[0m \u001b[38;5;28;01mfor\u001b[39;00m index, row \u001b[38;5;129;01min\u001b[39;00m we_the_people_df\u001b[38;5;241m.\u001b[39miterrows():\n\u001b[0;32m----> 3\u001b[0m     planet_url \u001b[38;5;241m=\u001b[39m \u001b[43mcol\u001b[49m\u001b[43m[\u001b[49m\u001b[38;5;124;43m'\u001b[39;49m\u001b[38;5;124;43mhome\u001b[39;49m\u001b[38;5;124;43m'\u001b[39;49m\u001b[43m]\u001b[49m  \n\u001b[1;32m      4\u001b[0m     planet_data \u001b[38;5;241m=\u001b[39m requests\u001b[38;5;241m.\u001b[39mget(planet_url)\u001b[38;5;241m.\u001b[39mjson()\n\u001b[1;32m      6\u001b[0m     \u001b[38;5;66;03m# Append the planet data to the people DataFrame\u001b[39;00m\n",
      "File \u001b[0;32m/opt/homebrew/anaconda3/lib/python3.10/site-packages/pandas/core/series.py:981\u001b[0m, in \u001b[0;36mSeries.__getitem__\u001b[0;34m(self, key)\u001b[0m\n\u001b[1;32m    978\u001b[0m     \u001b[38;5;28;01mreturn\u001b[39;00m \u001b[38;5;28mself\u001b[39m\u001b[38;5;241m.\u001b[39m_values[key]\n\u001b[1;32m    980\u001b[0m \u001b[38;5;28;01melif\u001b[39;00m key_is_scalar:\n\u001b[0;32m--> 981\u001b[0m     \u001b[38;5;28;01mreturn\u001b[39;00m \u001b[38;5;28;43mself\u001b[39;49m\u001b[38;5;241;43m.\u001b[39;49m\u001b[43m_get_value\u001b[49m\u001b[43m(\u001b[49m\u001b[43mkey\u001b[49m\u001b[43m)\u001b[49m\n\u001b[1;32m    983\u001b[0m \u001b[38;5;28;01mif\u001b[39;00m is_hashable(key):\n\u001b[1;32m    984\u001b[0m     \u001b[38;5;66;03m# Otherwise index.get_value will raise InvalidIndexError\u001b[39;00m\n\u001b[1;32m    985\u001b[0m     \u001b[38;5;28;01mtry\u001b[39;00m:\n\u001b[1;32m    986\u001b[0m         \u001b[38;5;66;03m# For labels that don't resolve as scalars like tuples and frozensets\u001b[39;00m\n",
      "File \u001b[0;32m/opt/homebrew/anaconda3/lib/python3.10/site-packages/pandas/core/series.py:1089\u001b[0m, in \u001b[0;36mSeries._get_value\u001b[0;34m(self, label, takeable)\u001b[0m\n\u001b[1;32m   1086\u001b[0m     \u001b[38;5;28;01mreturn\u001b[39;00m \u001b[38;5;28mself\u001b[39m\u001b[38;5;241m.\u001b[39m_values[label]\n\u001b[1;32m   1088\u001b[0m \u001b[38;5;66;03m# Similar to Index.get_value, but we do not fall back to positional\u001b[39;00m\n\u001b[0;32m-> 1089\u001b[0m loc \u001b[38;5;241m=\u001b[39m \u001b[38;5;28;43mself\u001b[39;49m\u001b[38;5;241;43m.\u001b[39;49m\u001b[43mindex\u001b[49m\u001b[38;5;241;43m.\u001b[39;49m\u001b[43mget_loc\u001b[49m\u001b[43m(\u001b[49m\u001b[43mlabel\u001b[49m\u001b[43m)\u001b[49m\n\u001b[1;32m   1090\u001b[0m \u001b[38;5;28;01mreturn\u001b[39;00m \u001b[38;5;28mself\u001b[39m\u001b[38;5;241m.\u001b[39mindex\u001b[38;5;241m.\u001b[39m_get_values_for_loc(\u001b[38;5;28mself\u001b[39m, loc, label)\n",
      "File \u001b[0;32m/opt/homebrew/anaconda3/lib/python3.10/site-packages/pandas/core/indexes/base.py:3804\u001b[0m, in \u001b[0;36mIndex.get_loc\u001b[0;34m(self, key, method, tolerance)\u001b[0m\n\u001b[1;32m   3802\u001b[0m     \u001b[38;5;28;01mreturn\u001b[39;00m \u001b[38;5;28mself\u001b[39m\u001b[38;5;241m.\u001b[39m_engine\u001b[38;5;241m.\u001b[39mget_loc(casted_key)\n\u001b[1;32m   3803\u001b[0m \u001b[38;5;28;01mexcept\u001b[39;00m \u001b[38;5;167;01mKeyError\u001b[39;00m \u001b[38;5;28;01mas\u001b[39;00m err:\n\u001b[0;32m-> 3804\u001b[0m     \u001b[38;5;28;01mraise\u001b[39;00m \u001b[38;5;167;01mKeyError\u001b[39;00m(key) \u001b[38;5;28;01mfrom\u001b[39;00m \u001b[38;5;21;01merr\u001b[39;00m\n\u001b[1;32m   3805\u001b[0m \u001b[38;5;28;01mexcept\u001b[39;00m \u001b[38;5;167;01mTypeError\u001b[39;00m:\n\u001b[1;32m   3806\u001b[0m     \u001b[38;5;66;03m# If we have a listlike key, _check_indexing_error will raise\u001b[39;00m\n\u001b[1;32m   3807\u001b[0m     \u001b[38;5;66;03m#  InvalidIndexError. Otherwise we fall through and re-raise\u001b[39;00m\n\u001b[1;32m   3808\u001b[0m     \u001b[38;5;66;03m#  the TypeError.\u001b[39;00m\n\u001b[1;32m   3809\u001b[0m     \u001b[38;5;28mself\u001b[39m\u001b[38;5;241m.\u001b[39m_check_indexing_error(key)\n",
      "\u001b[0;31mKeyError\u001b[0m: 'home'"
     ]
    }
   ],
   "source": [
    "\n",
    "# Iterate through the rows of we_the_people_df\n",
    "for index, row in we_the_people_df.iterrows():\n",
    "    planet_url = col['home']  \n",
    "    planet_data = requests.get(planet_url).json()\n",
    "    \n",
    "    # Append the planet data to the people DataFrame\n",
    "    people = people.append(planet_data, ignore_index=True)\n",
    "\n",
    "# Now, the 'people' DataFrame contains data for the planet associated with each person\n"
   ]
  },
  {
   "cell_type": "code",
   "execution_count": null,
   "id": "33544fbf",
   "metadata": {},
   "outputs": [],
   "source": []
  }
 ],
 "metadata": {
  "kernelspec": {
   "display_name": "Python 3 (ipykernel)",
   "language": "python",
   "name": "python3"
  },
  "language_info": {
   "codemirror_mode": {
    "name": "ipython",
    "version": 3
   },
   "file_extension": ".py",
   "mimetype": "text/x-python",
   "name": "python",
   "nbconvert_exporter": "python",
   "pygments_lexer": "ipython3",
   "version": "3.10.9"
  }
 },
 "nbformat": 4,
 "nbformat_minor": 5
}
